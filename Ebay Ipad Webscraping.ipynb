{
 "cells": [
  {
   "cell_type": "code",
   "execution_count": 2,
   "metadata": {},
   "outputs": [],
   "source": [
    "import pandas as pd\n",
    "import numpy as np\n",
    "import matplotlib.pyplot as plt\n",
    "import re"
   ]
  },
  {
   "cell_type": "code",
   "execution_count": 3,
   "metadata": {},
   "outputs": [],
   "source": [
    "!pip install requests --upgrade --quiet --use-feature=2020-resolver\n",
    "!pip install beautifulsoup4 --upgrade --quiet"
   ]
  },
  {
   "cell_type": "code",
   "execution_count": 4,
   "metadata": {},
   "outputs": [],
   "source": [
    "import requests\n",
    "from bs4 import BeautifulSoup"
   ]
  },
  {
   "cell_type": "code",
   "execution_count": null,
   "metadata": {},
   "outputs": [],
   "source": [
    "def item_retriever(page):\n",
    "    headers = {'user-agent': 'Mozilla/5.0 (Macintosh; Intel Mac OS X 10_11_6) AppleWebKit/537.36 (KHTML, like Gecko) Chrome/53.0.2785.143 Safari/537.36'}\n",
    "    response = requests.get(page, headers=headers)\n",
    "    doc = BeautifulSoup(response.text,'html.parser')\n",
    "    items = doc.find_all('a', {'class':\"s-item__link\"})\n",
    "    return items"
   ]
  },
  {
   "cell_type": "code",
   "execution_count": null,
   "metadata": {},
   "outputs": [],
   "source": [
    "item_titles = []\n",
    "item_links = []\n",
    "condition = [] \n",
    "price_usd = []\n",
    "item_specs = []\n",
    "#page_data = pd.DataFrame(list(zip(item_titles, item_links)),columns =['Name', 'Links'])"
   ]
  },
  {
   "cell_type": "raw",
   "metadata": {},
   "source": [
    "for i in range(1,6):\n",
    "    page = \"https://www.ebay.com/sch/i.html?_from=R40&_nkw=ipad&_sacat=0&_pgn=\" + str(i)\n",
    "    items = item_retriever(page)\n",
    "\n",
    "    for item in items:\n",
    "        item_titles.append(item.text)\n",
    "        item_links.append(item.get('href'))\n",
    "    \n",
    "    for page_link in my_data.Links:\n",
    "        response = requests.get(page_link)\n",
    "        soup = BeautifulSoup(response.text,'html.parser')\n",
    "    \n",
    "        #Creating a list of condition values\n",
    "        try:\n",
    "            condition.append(soup.find_all('div',class_ = \"u-flL condText\")[0].text)\n",
    "        except:\n",
    "            condition.append(None)\n",
    "    \n",
    "        #Creating a list of price values\n",
    "        try:\n",
    "            price_usd.append(float(soup.find_all('span',class_ = \"notranslate\")[0].get('content')))\n",
    "        except:\n",
    "            price_usd.append(None)\n",
    "            \n",
    "    \n",
    "    for page_link in my_data.Links:\n",
    "        response = requests.get(page_link)\n",
    "        soup = BeautifulSoup(response.text,'html.parser')\n",
    "\n",
    "        #Creating a list of itemspecifics values\n",
    "        try:\n",
    "            item_specifics = soup.find_all('div',class_ = \"ux-layout-section__item ux-layout-section__item--table-view\")\n",
    "            items = item_specifics[0].find_all('div',class_= \"ux-layout-section__row\")\n",
    "        \n",
    "            specifics_dict = {}\n",
    "            for i in items:\n",
    "                a = i.find_all('div',class_ = \"ux-labels-values__labels\")\n",
    "                b = i.find_all('div',class_ = \"ux-labels-values__values-content\") \n",
    "                for j in range(len(a)):\n",
    "                    specifics_dict[a[j].text.strip(\":\")] = b[j].text\n",
    "            item_specs.append(specifics_dict)\n",
    "        except:\n",
    "            item_specs.append(None)"
   ]
  },
  {
   "cell_type": "code",
   "execution_count": null,
   "metadata": {},
   "outputs": [],
   "source": [
    "item_titles = []\n",
    "item_links = []\n",
    "\n",
    "for i in range(1,60):\n",
    "    print(\"Page No:\",i)\n",
    "    page = \"https://www.ebay.com/sch/i.html?_from=R40&_nkw=ipad&_sacat=0&_pgn=\" + str(i)\n",
    "    items = item_retriever(page)\n",
    "\n",
    "    for item in items:\n",
    "        item_titles.append(item.text)\n",
    "        item_links.append(item.get('href'))\n",
    "        #print(item.get('href'))"
   ]
  },
  {
   "cell_type": "code",
   "execution_count": null,
   "metadata": {},
   "outputs": [],
   "source": [
    "my_data = pd.DataFrame(list(zip(item_titles, item_links)),\n",
    "               columns =['Name', 'Links'])"
   ]
  },
  {
   "cell_type": "code",
   "execution_count": null,
   "metadata": {},
   "outputs": [],
   "source": [
    "my_data.to_csv(\"link_ebay_data.csv\")"
   ]
  },
  {
   "cell_type": "code",
   "execution_count": null,
   "metadata": {},
   "outputs": [],
   "source": [
    "sum(my_data.duplicated())"
   ]
  },
  {
   "cell_type": "code",
   "execution_count": null,
   "metadata": {},
   "outputs": [],
   "source": [
    "new_data = my_data.drop_duplicates()"
   ]
  },
  {
   "cell_type": "code",
   "execution_count": null,
   "metadata": {},
   "outputs": [],
   "source": [
    "new_data = new_data.reset_index().drop([\"index\"], axis=1)"
   ]
  },
  {
   "cell_type": "code",
   "execution_count": null,
   "metadata": {},
   "outputs": [],
   "source": [
    "new_data.to_csv(\"clean_ebaylinks_data.csv\")"
   ]
  },
  {
   "cell_type": "code",
   "execution_count": null,
   "metadata": {},
   "outputs": [],
   "source": [
    "len(new_data)"
   ]
  },
  {
   "cell_type": "code",
   "execution_count": null,
   "metadata": {},
   "outputs": [],
   "source": [
    "condition = [] \n",
    "price_usd = []\n",
    "item_specs = []\n",
    "for p in range(len(new_data.Links)):\n",
    "    page_link = new_data.Links[p]\n",
    "    \n",
    "    if p%10 ==0:\n",
    "        print(\"now in page:\",p)\n",
    "    \n",
    "    response = requests.get(page_link)\n",
    "    soup = BeautifulSoup(response.text,'html.parser')\n",
    "    \n",
    "    #Creating a list of condition values\n",
    "    try:\n",
    "        condition.append(soup.find_all('div',class_ = \"u-flL condText\")[0].text)\n",
    "    except:\n",
    "        condition.append(None)\n",
    "    \n",
    "    #Creating a list of price values\n",
    "    try:\n",
    "        price_usd.append(float(soup.find_all('span',class_ = \"notranslate\")[0].get('content')))\n",
    "    except:\n",
    "        price_usd.append(None)\n",
    "\n",
    "    #Creating a list of itemspecifics values\n",
    "    try:\n",
    "        item_specifics = soup.find_all('div',class_ = \"ux-layout-section__item ux-layout-section__item--table-view\")\n",
    "        items = item_specifics[0].find_all('div',class_= \"ux-layout-section__row\")\n",
    "        \n",
    "        specifics_dict = {}\n",
    "        for i in items:\n",
    "            a = i.find_all('div',class_ = \"ux-labels-values__labels\")\n",
    "            b = i.find_all('div',class_ = \"ux-labels-values__values-content\") \n",
    "            for j in range(len(a)):\n",
    "                specifics_dict[a[j].text.strip(\":\")] = b[j].text\n",
    "        item_specs.append(specifics_dict)\n",
    "    except:\n",
    "        item_specs.append(None)"
   ]
  },
  {
   "cell_type": "code",
   "execution_count": null,
   "metadata": {},
   "outputs": [],
   "source": [
    "new_data['condition'] = condition\n",
    "new_data['price_usd'] = price_usd\n",
    "new_data['item_specs'] = item_specs"
   ]
  },
  {
   "cell_type": "code",
   "execution_count": null,
   "metadata": {},
   "outputs": [],
   "source": []
  }
 ],
 "metadata": {
  "interpreter": {
   "hash": "c7c4f72963fb92a8e9d7575343b83d837dd309a3d8dc46f97af33e5e3dd0e10d"
  },
  "kernelspec": {
   "display_name": "Python 3.8.5 64-bit ('base': conda)",
   "name": "python3"
  },
  "language_info": {
   "codemirror_mode": {
    "name": "ipython",
    "version": 3
   },
   "file_extension": ".py",
   "mimetype": "text/x-python",
   "name": "python",
   "nbconvert_exporter": "python",
   "pygments_lexer": "ipython3",
   "version": "3.8.5"
  }
 },
 "nbformat": 4,
 "nbformat_minor": 4
}
