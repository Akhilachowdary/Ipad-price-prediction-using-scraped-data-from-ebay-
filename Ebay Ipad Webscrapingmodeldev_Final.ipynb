{
 "cells": [
  {
   "cell_type": "code",
   "execution_count": 1,
   "metadata": {},
   "outputs": [],
   "source": [
    "import pandas as pd\n",
    "import numpy as np\n",
    "import matplotlib.pyplot as plt\n",
    "import re"
   ]
  },
  {
   "cell_type": "code",
   "execution_count": 2,
   "metadata": {},
   "outputs": [],
   "source": [
    "df = pd.read_csv(\"ebay_data.csv\")"
   ]
  },
  {
   "cell_type": "code",
   "execution_count": 3,
   "metadata": {},
   "outputs": [],
   "source": [
    "df = df.drop(columns = [\"Unnamed: 0\"])"
   ]
  },
  {
   "cell_type": "code",
   "execution_count": 4,
   "metadata": {},
   "outputs": [],
   "source": [
    "bidding_data = df[(df.price_usd.isnull())]"
   ]
  },
  {
   "cell_type": "code",
   "execution_count": 5,
   "metadata": {},
   "outputs": [],
   "source": [
    "df = df[(df.price_usd.notnull())]"
   ]
  },
  {
   "cell_type": "code",
   "execution_count": 6,
   "metadata": {
    "scrolled": true
   },
   "outputs": [
    {
     "data": {
      "text/html": [
       "<div>\n",
       "<style scoped>\n",
       "    .dataframe tbody tr th:only-of-type {\n",
       "        vertical-align: middle;\n",
       "    }\n",
       "\n",
       "    .dataframe tbody tr th {\n",
       "        vertical-align: top;\n",
       "    }\n",
       "\n",
       "    .dataframe thead th {\n",
       "        text-align: right;\n",
       "    }\n",
       "</style>\n",
       "<table border=\"1\" class=\"dataframe\">\n",
       "  <thead>\n",
       "    <tr style=\"text-align: right;\">\n",
       "      <th></th>\n",
       "      <th>Name</th>\n",
       "      <th>Links</th>\n",
       "      <th>condition</th>\n",
       "      <th>price_usd</th>\n",
       "      <th>item_specs</th>\n",
       "    </tr>\n",
       "  </thead>\n",
       "  <tbody>\n",
       "    <tr>\n",
       "      <th>0</th>\n",
       "      <td>Shop on eBay</td>\n",
       "      <td>https://ebay.com/itm/123456?amdata=enc%3AAQAHA...</td>\n",
       "      <td>NaN</td>\n",
       "      <td>NaN</td>\n",
       "      <td>NaN</td>\n",
       "    </tr>\n",
       "  </tbody>\n",
       "</table>\n",
       "</div>"
      ],
      "text/plain": [
       "           Name                                              Links condition  \\\n",
       "0  Shop on eBay  https://ebay.com/itm/123456?amdata=enc%3AAQAHA...       NaN   \n",
       "\n",
       "   price_usd item_specs  \n",
       "0        NaN        NaN  "
      ]
     },
     "execution_count": 6,
     "metadata": {},
     "output_type": "execute_result"
    }
   ],
   "source": [
    "bidding_data.head(1)"
   ]
  },
  {
   "cell_type": "code",
   "execution_count": 7,
   "metadata": {},
   "outputs": [],
   "source": [
    "df = df.reset_index().drop([\"index\"], axis=1)"
   ]
  },
  {
   "cell_type": "code",
   "execution_count": 8,
   "metadata": {},
   "outputs": [],
   "source": [
    "import ast\n",
    "\n",
    "df['item_specs'] = df['item_specs'].apply(lambda x: ast.literal_eval(x))"
   ]
  },
  {
   "cell_type": "code",
   "execution_count": 9,
   "metadata": {},
   "outputs": [
    {
     "data": {
      "text/plain": [
       "Name           object\n",
       "Links          object\n",
       "condition      object\n",
       "price_usd     float64\n",
       "item_specs     object\n",
       "dtype: object"
      ]
     },
     "execution_count": 9,
     "metadata": {},
     "output_type": "execute_result"
    }
   ],
   "source": [
    "datatypes = df.dtypes\n",
    "df.dtypes"
   ]
  },
  {
   "cell_type": "code",
   "execution_count": 10,
   "metadata": {},
   "outputs": [],
   "source": [
    "temp = []\n",
    "for i in df.item_specs:\n",
    "    temp.append(list(i.keys()))"
   ]
  },
  {
   "cell_type": "code",
   "execution_count": 11,
   "metadata": {},
   "outputs": [],
   "source": [
    "all_specs = list(set.union(*map(set, temp)))"
   ]
  },
  {
   "cell_type": "code",
   "execution_count": 12,
   "metadata": {},
   "outputs": [],
   "source": [
    "list_of_item_specs = df['item_specs'].to_list()"
   ]
  },
  {
   "cell_type": "code",
   "execution_count": 13,
   "metadata": {},
   "outputs": [],
   "source": [
    "temp_df = pd.DataFrame(list_of_item_specs)"
   ]
  },
  {
   "cell_type": "code",
   "execution_count": 14,
   "metadata": {},
   "outputs": [],
   "source": [
    "df_base = pd.concat([df, temp_df], axis=1, join='inner')"
   ]
  },
  {
   "cell_type": "code",
   "execution_count": 15,
   "metadata": {},
   "outputs": [
    {
     "data": {
      "text/plain": [
       "3079"
      ]
     },
     "execution_count": 15,
     "metadata": {},
     "output_type": "execute_result"
    }
   ],
   "source": [
    "df_base.Name.count()"
   ]
  },
  {
   "cell_type": "code",
   "execution_count": 16,
   "metadata": {},
   "outputs": [],
   "source": [
    "df_working = df_base"
   ]
  },
  {
   "cell_type": "code",
   "execution_count": 17,
   "metadata": {},
   "outputs": [],
   "source": [
    "df_working = df_working.drop([' Condition', 'item_specs'], axis=1)"
   ]
  },
  {
   "cell_type": "code",
   "execution_count": 18,
   "metadata": {},
   "outputs": [],
   "source": [
    "high_count_col = []\n",
    "\n",
    "for i in df_working.columns:\n",
    "    if df_working[i].count() > 1500:\n",
    "        high_count_col.append(i)"
   ]
  },
  {
   "cell_type": "code",
   "execution_count": 19,
   "metadata": {},
   "outputs": [
    {
     "data": {
      "text/plain": [
       "21"
      ]
     },
     "execution_count": 19,
     "metadata": {},
     "output_type": "execute_result"
    }
   ],
   "source": [
    "len(high_count_col)"
   ]
  },
  {
   "cell_type": "code",
   "execution_count": 20,
   "metadata": {
    "scrolled": true
   },
   "outputs": [
    {
     "data": {
      "text/plain": [
       "['Name',\n",
       " 'Links',\n",
       " 'condition',\n",
       " 'price_usd',\n",
       " ' Model',\n",
       " ' Internet Connectivity',\n",
       " ' Type',\n",
       " ' MPN',\n",
       " ' Storage Capacity',\n",
       " ' RAM Size',\n",
       " ' Brand',\n",
       " ' Screen Size',\n",
       " ' Series',\n",
       " ' Network',\n",
       " ' UPC',\n",
       " ' Processor',\n",
       " ' Color',\n",
       " ' Maximum Resolution',\n",
       " ' Connectivity',\n",
       " ' Operating System',\n",
       " ' Features']"
      ]
     },
     "execution_count": 20,
     "metadata": {},
     "output_type": "execute_result"
    }
   ],
   "source": [
    "high_count_col"
   ]
  },
  {
   "cell_type": "code",
   "execution_count": 21,
   "metadata": {},
   "outputs": [
    {
     "data": {
      "text/plain": [
       "3079"
      ]
     },
     "execution_count": 21,
     "metadata": {},
     "output_type": "execute_result"
    }
   ],
   "source": [
    "len(df_working)"
   ]
  },
  {
   "cell_type": "code",
   "execution_count": 22,
   "metadata": {},
   "outputs": [],
   "source": [
    "df2 = df_working[high_count_col]"
   ]
  },
  {
   "cell_type": "code",
   "execution_count": 23,
   "metadata": {},
   "outputs": [],
   "source": [
    "df2 = df2.drop(['Links'], axis=1)"
   ]
  },
  {
   "cell_type": "code",
   "execution_count": 24,
   "metadata": {},
   "outputs": [],
   "source": [
    "df2 = df2.drop_duplicates()"
   ]
  },
  {
   "cell_type": "code",
   "execution_count": 25,
   "metadata": {},
   "outputs": [
    {
     "data": {
      "text/plain": [
       "2894"
      ]
     },
     "execution_count": 25,
     "metadata": {},
     "output_type": "execute_result"
    }
   ],
   "source": [
    "len(df2)"
   ]
  },
  {
   "cell_type": "code",
   "execution_count": 26,
   "metadata": {},
   "outputs": [
    {
     "data": {
      "text/plain": [
       "Index(['Name', 'condition', 'price_usd', ' Model', ' Internet Connectivity',\n",
       "       ' Type', ' MPN', ' Storage Capacity', ' RAM Size', ' Brand',\n",
       "       ' Screen Size', ' Series', ' Network', ' UPC', ' Processor', ' Color',\n",
       "       ' Maximum Resolution', ' Connectivity', ' Operating System',\n",
       "       ' Features'],\n",
       "      dtype='object')"
      ]
     },
     "execution_count": 26,
     "metadata": {},
     "output_type": "execute_result"
    }
   ],
   "source": [
    "df2.columns"
   ]
  },
  {
   "cell_type": "code",
   "execution_count": 27,
   "metadata": {},
   "outputs": [
    {
     "data": {
      "text/plain": [
       "Used                        1789\n",
       "New                          283\n",
       "Open box                     266\n",
       "For parts or not working     260\n",
       "Seller refurbished           147\n",
       "Very Good - Refurbished       63\n",
       "Excellent - Refurbished       48\n",
       "Good - Refurbished            37\n",
       "Certified - Refurbished        1\n",
       "Name: condition, dtype: int64"
      ]
     },
     "execution_count": 27,
     "metadata": {},
     "output_type": "execute_result"
    }
   ],
   "source": [
    "df2['condition'].value_counts()"
   ]
  },
  {
   "cell_type": "code",
   "execution_count": 28,
   "metadata": {},
   "outputs": [
    {
     "data": {
      "image/png": "[encoded data removed]",
      "text/plain": [
       "<Figure size 1080x432 with 2 Axes>"
      ]
     },
     "metadata": {
      "needs_background": "light"
     },
     "output_type": "display_data"
    }
   ],
   "source": [
    "#fig, axs = plt.subplots(2)\n",
    "fig, axs = plt.subplots(1,2,figsize=(15, 6))\n",
    "fig.suptitle('Visualizing the price distribution')\n",
    "axs[0].hist(df2.price_usd, bins=30)\n",
    "axs[0].set_xlabel('Price of Ipad')\n",
    "axs[0].set_ylabel('# of Ipads')\n",
    "axs[1].boxplot(df2.price_usd)\n",
    "axs[1].set_ylabel('Price')\n",
    "\n",
    "plt.show()"
   ]
  },
  {
   "cell_type": "code",
   "execution_count": 29,
   "metadata": {},
   "outputs": [],
   "source": [
    "df2[(df2.price_usd > 1500)]\n",
    "#removing the index 1538 - from the name, the row doesn't seem correct\n",
    "\n",
    "df2 = df2.drop(1538)"
   ]
  },
  {
   "cell_type": "code",
   "execution_count": 30,
   "metadata": {},
   "outputs": [
    {
     "data": {
      "image/png": "[encoded data removed]",
      "text/plain": [
       "<Figure size 720x432 with 1 Axes>"
      ]
     },
     "metadata": {
      "needs_background": "light"
     },
     "output_type": "display_data"
    }
   ],
   "source": [
    "fig = plt.figure(figsize=(10, 6))\n",
    "ax1 = fig.add_subplot(111)\n",
    "fig.suptitle('Condition Vs Price')\n",
    "ax1.scatter(df2.price_usd,df2.condition, color='tab:blue', label='MEN')\n",
    "plt.show()"
   ]
  },
  {
   "cell_type": "code",
   "execution_count": 31,
   "metadata": {},
   "outputs": [],
   "source": [
    "df2[\"condition\"].replace({\"Seller refurbished\": \"Refurbished\", \"Very Good - Refurbished\": \"Refurbished\", \n",
    "                          \"Excellent - Refurbished\" : \"Refurbished\", \"Good - Refurbished\" : \"Refurbished\", \n",
    "                              \"Certified - Refurbished\" : \"Refurbished\", \n",
    "                                \"For parts or not working\" : \"Not working\"}, inplace=True)"
   ]
  },
  {
   "cell_type": "code",
   "execution_count": 32,
   "metadata": {},
   "outputs": [
    {
     "data": {
      "text/plain": [
       "Used           1788\n",
       "Refurbished     296\n",
       "New             283\n",
       "Open box        266\n",
       "Not working     260\n",
       "Name: condition, dtype: int64"
      ]
     },
     "execution_count": 32,
     "metadata": {},
     "output_type": "execute_result"
    }
   ],
   "source": [
    "df2['condition'].value_counts()"
   ]
  },
  {
   "cell_type": "code",
   "execution_count": 33,
   "metadata": {},
   "outputs": [
    {
     "name": "stderr",
     "output_type": "stream",
     "text": [
      "<ipython-input-33-1390d13c0cdd>:4: FutureWarning: Passing a negative integer is deprecated in version 1.0 and will not be supported in future version. Instead, use None to not limit the column width.\n",
      "  pd.set_option('display.max_colwidth', -1)\n"
     ]
    }
   ],
   "source": [
    "pd.set_option('display.max_rows', None)\n",
    "pd.set_option('display.max_columns', None)\n",
    "pd.set_option('display.width', None)\n",
    "pd.set_option('display.max_colwidth', -1)"
   ]
  },
  {
   "cell_type": "code",
   "execution_count": 34,
   "metadata": {},
   "outputs": [
    {
     "data": {
      "text/html": [
       "<div>\n",
       "<style scoped>\n",
       "    .dataframe tbody tr th:only-of-type {\n",
       "        vertical-align: middle;\n",
       "    }\n",
       "\n",
       "    .dataframe tbody tr th {\n",
       "        vertical-align: top;\n",
       "    }\n",
       "\n",
       "    .dataframe thead th {\n",
       "        text-align: right;\n",
       "    }\n",
       "</style>\n",
       "<table border=\"1\" class=\"dataframe\">\n",
       "  <thead>\n",
       "    <tr style=\"text-align: right;\">\n",
       "      <th></th>\n",
       "      <th>Name</th>\n",
       "      <th>Model</th>\n",
       "    </tr>\n",
       "  </thead>\n",
       "  <tbody>\n",
       "    <tr>\n",
       "      <th>0</th>\n",
       "      <td>Apple iPad Mini 1st Gen - 16GB 32GB 64GB - Wi-Fi 7.9in - Very Good</td>\n",
       "      <td>Apple iPad mini (1st Generation)</td>\n",
       "    </tr>\n",
       "    <tr>\n",
       "      <th>1</th>\n",
       "      <td>Apple iPad Air - 9.7-inch, Space Gray, 32GB, Wi-Fi Only, Exclusive Bundle Deal</td>\n",
       "      <td>Apple iPad Air (1st Generation)</td>\n",
       "    </tr>\n",
       "    <tr>\n",
       "      <th>2</th>\n",
       "      <td>Apple iPad Pro 12.9\" 1st Gen 128GB WiFi + Cellular UNLOCKED ( VERY GGOD)</td>\n",
       "      <td>Apple iPad Pro (1st Generation)</td>\n",
       "    </tr>\n",
       "    <tr>\n",
       "      <th>3</th>\n",
       "      <td>Apple iPad 2nd 3rd 4th Generation 16GB 32GB 64GB 128GB PICK:GB - Color *Grade B*</td>\n",
       "      <td>NaN</td>\n",
       "    </tr>\n",
       "    <tr>\n",
       "      <th>4</th>\n",
       "      <td>2021 Apple 10.2\" iPad 9th Gen (Wi-Fi, 64GB) Space Gray_Latest Model _New Sealed</td>\n",
       "      <td>Apple iPad (9th Generation)</td>\n",
       "    </tr>\n",
       "  </tbody>\n",
       "</table>\n",
       "</div>"
      ],
      "text/plain": [
       "                                                                               Name  \\\n",
       "0  Apple iPad Mini 1st Gen - 16GB 32GB 64GB - Wi-Fi 7.9in - Very Good                 \n",
       "1  Apple iPad Air - 9.7-inch, Space Gray, 32GB, Wi-Fi Only, Exclusive Bundle Deal     \n",
       "2  Apple iPad Pro 12.9\" 1st Gen 128GB WiFi + Cellular UNLOCKED ( VERY GGOD)           \n",
       "3  Apple iPad 2nd 3rd 4th Generation 16GB 32GB 64GB 128GB PICK:GB - Color *Grade B*   \n",
       "4  2021 Apple 10.2\" iPad 9th Gen (Wi-Fi, 64GB) Space Gray_Latest Model _New Sealed    \n",
       "\n",
       "                              Model  \n",
       "0  Apple iPad mini (1st Generation)  \n",
       "1  Apple iPad Air (1st Generation)   \n",
       "2  Apple iPad Pro (1st Generation)   \n",
       "3  NaN                               \n",
       "4  Apple iPad (9th Generation)       "
      ]
     },
     "execution_count": 34,
     "metadata": {},
     "output_type": "execute_result"
    }
   ],
   "source": [
    "df2[['Name',' Model']].head(5)"
   ]
  },
  {
   "cell_type": "code",
   "execution_count": 35,
   "metadata": {
    "scrolled": true
   },
   "outputs": [],
   "source": [
    "def model_gen(text,pattern):\n",
    "    try:\n",
    "        for match in re.finditer(pattern.lower(), text.lower()):\n",
    "            s = match.start() - 4\n",
    "            e = match.end()\n",
    "            sub_text = text[s:e]\n",
    "            p = '[0-9]'\n",
    "            k = re.search(p, sub_text)\n",
    "            i = k.start()\n",
    "            j = k.end()\n",
    "            return(int(sub_text[i:j]))\n",
    "    except:\n",
    "        return(None)"
   ]
  },
  {
   "cell_type": "code",
   "execution_count": 36,
   "metadata": {},
   "outputs": [
    {
     "data": {
      "text/plain": [
       "1"
      ]
     },
     "execution_count": 36,
     "metadata": {},
     "output_type": "execute_result"
    }
   ],
   "source": [
    "text = \"Apple iPad Mini 1st Gen - 16GB 32GB 64GB - Wi-Fi 7.9in - Very Good\"\n",
    "\n",
    "model_gen(text,\"Gen\")"
   ]
  },
  {
   "cell_type": "code",
   "execution_count": 37,
   "metadata": {},
   "outputs": [
    {
     "name": "stdout",
     "output_type": "stream",
     "text": [
      "Apple iPad Mini 1st Gen - 16GB 32GB 64GB - Wi-Fi 7.9in - Very Good 1\n",
      "Apple iPad Air - 9.7-inch, Space Gray, 32GB, Wi-Fi Only, Exclusive Bundle Deal None\n",
      "Apple iPad Pro 12.9\" 1st Gen 128GB WiFi + Cellular UNLOCKED ( VERY GGOD) 1\n",
      "Apple iPad 2nd 3rd 4th Generation 16GB 32GB 64GB 128GB PICK:GB - Color *Grade B* 4\n",
      "2021 Apple 10.2\" iPad 9th Gen (Wi-Fi, 64GB) Space Gray_Latest Model _New Sealed  9\n"
     ]
    }
   ],
   "source": [
    "for i in df2['Name'].head(5):\n",
    "    print(i,model_gen(i,\"Gen\"))"
   ]
  },
  {
   "cell_type": "code",
   "execution_count": 38,
   "metadata": {},
   "outputs": [],
   "source": [
    "df2['model_generation'] = df2['Name'].apply(lambda x: model_gen(x,\"Gen\"))\n",
    "df2['model_gen'] = df2[' Model'].apply(lambda x: model_gen(x,\"Gen\"))"
   ]
  },
  {
   "cell_type": "code",
   "execution_count": 39,
   "metadata": {},
   "outputs": [],
   "source": [
    "df2['model_generation'] = np.where(df2['model_generation'].isnull(), df2['model_gen'], df2['model_generation'])"
   ]
  },
  {
   "cell_type": "code",
   "execution_count": 40,
   "metadata": {},
   "outputs": [
    {
     "data": {
      "text/plain": [
       "686"
      ]
     },
     "execution_count": 40,
     "metadata": {},
     "output_type": "execute_result"
    }
   ],
   "source": [
    "df2['model_generation'].isnull().sum()"
   ]
  },
  {
   "cell_type": "code",
   "execution_count": 41,
   "metadata": {},
   "outputs": [],
   "source": [
    "df2 = df2.drop(columns = [\"model_gen\"])"
   ]
  },
  {
   "cell_type": "code",
   "execution_count": 42,
   "metadata": {},
   "outputs": [
    {
     "data": {
      "text/plain": [
       "1.0    625\n",
       "4.0    336\n",
       "3.0    292\n",
       "5.0    256\n",
       "2.0    241\n",
       "6.0    169\n",
       "9.0    102\n",
       "8.0    97 \n",
       "7.0    89 \n",
       "Name: model_generation, dtype: int64"
      ]
     },
     "execution_count": 42,
     "metadata": {},
     "output_type": "execute_result"
    }
   ],
   "source": [
    "df2.model_generation.value_counts()"
   ]
  },
  {
   "cell_type": "code",
   "execution_count": 43,
   "metadata": {},
   "outputs": [
    {
     "name": "stdout",
     "output_type": "stream",
     "text": [
      "Mini\n"
     ]
    }
   ],
   "source": [
    "text = \"Apple iPad Mini 1st Gen - 16GB 32GB 64GB - Wi-Fi 7.9in - Very Good\"\n",
    "pattern = \"Mini|Air|Pro\"\n",
    "for match in re.finditer(pattern.lower(), text.lower()):\n",
    "    s = match.start()\n",
    "    e = match.end()\n",
    "    sub_text = text[s:e]\n",
    "    print(sub_text) "
   ]
  },
  {
   "cell_type": "code",
   "execution_count": 44,
   "metadata": {},
   "outputs": [],
   "source": [
    "def model_type(text,pattern):\n",
    "    try:\n",
    "        for match in re.finditer(pattern.lower(), text.lower()):\n",
    "            return(text[match.start():match.end()].lower())\n",
    "    except:\n",
    "        return(None)"
   ]
  },
  {
   "cell_type": "code",
   "execution_count": 45,
   "metadata": {},
   "outputs": [
    {
     "name": "stdout",
     "output_type": "stream",
     "text": [
      "Apple iPad Mini 1st Gen - 16GB 32GB 64GB - Wi-Fi 7.9in - Very Good mini\n",
      "Apple iPad Air - 9.7-inch, Space Gray, 32GB, Wi-Fi Only, Exclusive Bundle Deal air\n",
      "Apple iPad Pro 12.9\" 1st Gen 128GB WiFi + Cellular UNLOCKED ( VERY GGOD) pro\n",
      "Apple iPad 2nd 3rd 4th Generation 16GB 32GB 64GB 128GB PICK:GB - Color *Grade B* None\n",
      "2021 Apple 10.2\" iPad 9th Gen (Wi-Fi, 64GB) Space Gray_Latest Model _New Sealed  None\n"
     ]
    }
   ],
   "source": [
    "for i in df2['Name'].head(5):\n",
    "    print(i,model_type(i,\"Mini|Air|Pro\"))"
   ]
  },
  {
   "cell_type": "code",
   "execution_count": 46,
   "metadata": {},
   "outputs": [],
   "source": [
    "df2['model_type'] = df2['Name'].apply(lambda x: model_type(x,\"Mini|Air|Pro\"))\n",
    "df2['model_ty'] = df2[' Model'].apply(lambda x: model_type(x,\"Mini|Air|Pro\"))"
   ]
  },
  {
   "cell_type": "code",
   "execution_count": 47,
   "metadata": {},
   "outputs": [],
   "source": [
    "df2['model_type'] = np.where(df2['model_type'].isnull(), df2['model_ty'], df2['model_type'])"
   ]
  },
  {
   "cell_type": "code",
   "execution_count": 48,
   "metadata": {},
   "outputs": [
    {
     "data": {
      "text/plain": [
       "929"
      ]
     },
     "execution_count": 48,
     "metadata": {},
     "output_type": "execute_result"
    }
   ],
   "source": [
    "df2['model_type'].isnull().sum()"
   ]
  },
  {
   "cell_type": "code",
   "execution_count": 49,
   "metadata": {},
   "outputs": [
    {
     "data": {
      "text/plain": [
       "pro     843\n",
       "air     576\n",
       "mini    545\n",
       "Name: model_type, dtype: int64"
      ]
     },
     "execution_count": 49,
     "metadata": {},
     "output_type": "execute_result"
    }
   ],
   "source": [
    "df2['model_type'].value_counts()"
   ]
  },
  {
   "cell_type": "code",
   "execution_count": 50,
   "metadata": {},
   "outputs": [
    {
     "data": {
      "text/html": [
       "<div>\n",
       "<style scoped>\n",
       "    .dataframe tbody tr th:only-of-type {\n",
       "        vertical-align: middle;\n",
       "    }\n",
       "\n",
       "    .dataframe tbody tr th {\n",
       "        vertical-align: top;\n",
       "    }\n",
       "\n",
       "    .dataframe thead th {\n",
       "        text-align: right;\n",
       "    }\n",
       "</style>\n",
       "<table border=\"1\" class=\"dataframe\">\n",
       "  <thead>\n",
       "    <tr style=\"text-align: right;\">\n",
       "      <th></th>\n",
       "      <th>Name</th>\n",
       "      <th>Model</th>\n",
       "      <th>model_generation</th>\n",
       "      <th>model_type</th>\n",
       "    </tr>\n",
       "  </thead>\n",
       "  <tbody>\n",
       "    <tr>\n",
       "      <th>3069</th>\n",
       "      <td>Apple iPad Pro 4th Gen. 256GB, Wi-Fi, 12.9 in - Space Gray</td>\n",
       "      <td>Apple iPad Pro (4th Generation)</td>\n",
       "      <td>4.0</td>\n",
       "      <td>pro</td>\n",
       "    </tr>\n",
       "    <tr>\n",
       "      <th>3070</th>\n",
       "      <td>Apple iPad 5th Gen. 32GB, Wi-Fi + Cellular (AT&amp;T), 9.7in - Silver</td>\n",
       "      <td>Apple iPad (5th Generation)</td>\n",
       "      <td>5.0</td>\n",
       "      <td>None</td>\n",
       "    </tr>\n",
       "    <tr>\n",
       "      <th>3071</th>\n",
       "      <td>Black Apple 9.7\" iPad 4th Gen 16GB Wi-Fi Tablet A1458 Needs Reset</td>\n",
       "      <td>Apple iPad (4th Generation)</td>\n",
       "      <td>4.0</td>\n",
       "      <td>None</td>\n",
       "    </tr>\n",
       "    <tr>\n",
       "      <th>3072</th>\n",
       "      <td>NEW Apple iPad Pro 2nd Gen. 256GB, Wi-Fi, 11 in - Space Gray MXDC2LL/A Fast Ship</td>\n",
       "      <td>Apple iPad Pro (2nd Generation)</td>\n",
       "      <td>2.0</td>\n",
       "      <td>pro</td>\n",
       "    </tr>\n",
       "    <tr>\n",
       "      <th>3073</th>\n",
       "      <td>Apple iPad mini 4 128GB, Wi-Fi, 7.9in - Gold</td>\n",
       "      <td>Apple iPad mini 4</td>\n",
       "      <td>NaN</td>\n",
       "      <td>mini</td>\n",
       "    </tr>\n",
       "    <tr>\n",
       "      <th>3074</th>\n",
       "      <td>Apple iPad 7th Gen. 128GB, Wi-Fi BT 4G LTE 10.2 in - Space Gray unlocked</td>\n",
       "      <td>Apple iPad (7th Generation)</td>\n",
       "      <td>7.0</td>\n",
       "      <td>None</td>\n",
       "    </tr>\n",
       "    <tr>\n",
       "      <th>3075</th>\n",
       "      <td>NEW-SEALED Apple iPad 8th Gen. 32GB, Wi-Fi, 10.2 in - Space Gray Model #A2270</td>\n",
       "      <td>Apple iPad (8th Generation)</td>\n",
       "      <td>8.0</td>\n",
       "      <td>None</td>\n",
       "    </tr>\n",
       "    <tr>\n",
       "      <th>3076</th>\n",
       "      <td>Apple iPad Pro 32GB, Wi-Fi, 9.7in - Space Gray - GOOD COND (R-D)</td>\n",
       "      <td>Apple iPad Pro (1st Generation)</td>\n",
       "      <td>1.0</td>\n",
       "      <td>pro</td>\n",
       "    </tr>\n",
       "    <tr>\n",
       "      <th>3077</th>\n",
       "      <td>Apple iPad Air 2 - 32GB - Wi-Fi Only - All Colors</td>\n",
       "      <td>Apple iPad Air 2</td>\n",
       "      <td>NaN</td>\n",
       "      <td>air</td>\n",
       "    </tr>\n",
       "    <tr>\n",
       "      <th>3078</th>\n",
       "      <td>Apple iPad Air 2 -  64GB - All Colors - WIFI ONLY</td>\n",
       "      <td>Apple iPad Air 2</td>\n",
       "      <td>NaN</td>\n",
       "      <td>air</td>\n",
       "    </tr>\n",
       "  </tbody>\n",
       "</table>\n",
       "</div>"
      ],
      "text/plain": [
       "                                                                                  Name  \\\n",
       "3069  Apple iPad Pro 4th Gen. 256GB, Wi-Fi, 12.9 in - Space Gray                         \n",
       "3070  Apple iPad 5th Gen. 32GB, Wi-Fi + Cellular (AT&T), 9.7in - Silver                  \n",
       "3071  Black Apple 9.7\" iPad 4th Gen 16GB Wi-Fi Tablet A1458 Needs Reset                  \n",
       "3072  NEW Apple iPad Pro 2nd Gen. 256GB, Wi-Fi, 11 in - Space Gray MXDC2LL/A Fast Ship   \n",
       "3073  Apple iPad mini 4 128GB, Wi-Fi, 7.9in - Gold                                       \n",
       "3074  Apple iPad 7th Gen. 128GB, Wi-Fi BT 4G LTE 10.2 in - Space Gray unlocked           \n",
       "3075  NEW-SEALED Apple iPad 8th Gen. 32GB, Wi-Fi, 10.2 in - Space Gray Model #A2270      \n",
       "3076  Apple iPad Pro 32GB, Wi-Fi, 9.7in - Space Gray - GOOD COND (R-D)                   \n",
       "3077  Apple iPad Air 2 - 32GB - Wi-Fi Only - All Colors                                  \n",
       "3078  Apple iPad Air 2 -  64GB - All Colors - WIFI ONLY                                  \n",
       "\n",
       "                                Model  model_generation model_type  \n",
       "3069  Apple iPad Pro (4th Generation)  4.0               pro        \n",
       "3070  Apple iPad (5th Generation)      5.0               None       \n",
       "3071  Apple iPad (4th Generation)      4.0               None       \n",
       "3072  Apple iPad Pro (2nd Generation)  2.0               pro        \n",
       "3073  Apple iPad mini 4               NaN                mini       \n",
       "3074  Apple iPad (7th Generation)      7.0               None       \n",
       "3075  Apple iPad (8th Generation)      8.0               None       \n",
       "3076  Apple iPad Pro (1st Generation)  1.0               pro        \n",
       "3077  Apple iPad Air 2                NaN                air        \n",
       "3078  Apple iPad Air 2                NaN                air        "
      ]
     },
     "execution_count": 50,
     "metadata": {},
     "output_type": "execute_result"
    }
   ],
   "source": [
    "df2[['Name',' Model','model_generation','model_type']].tail(10)"
   ]
  },
  {
   "cell_type": "code",
   "execution_count": 51,
   "metadata": {},
   "outputs": [],
   "source": [
    "df2 = df2.drop(columns = [\"model_ty\",\" Model\"])"
   ]
  },
  {
   "cell_type": "code",
   "execution_count": 52,
   "metadata": {},
   "outputs": [],
   "source": [
    "def extract_ic(x):\n",
    "    try:\n",
    "        return(x.split(\",\")[0])\n",
    "    except:\n",
    "        return(None)"
   ]
  },
  {
   "cell_type": "code",
   "execution_count": 53,
   "metadata": {},
   "outputs": [],
   "source": [
    "df2['internet_connectivity'] = df2[' Internet Connectivity'].apply(lambda x: extract_ic(x))"
   ]
  },
  {
   "cell_type": "code",
   "execution_count": 54,
   "metadata": {},
   "outputs": [],
   "source": [
    "df2 = df2.drop(columns = [\" Internet Connectivity\"])"
   ]
  },
  {
   "cell_type": "code",
   "execution_count": 55,
   "metadata": {},
   "outputs": [
    {
     "data": {
      "text/plain": [
       "Wi-Fi                             2061\n",
       "Wi-Fi + 4G                        581 \n",
       "Wi-Fi + 5G                        71  \n",
       "Wi-Fi + 3G                        33  \n",
       "N\\A                               12  \n",
       "WiFi                              11  \n",
       "Not Available                     11  \n",
       "Not Applicable                    10  \n",
       "Wi-Fi + Cellular                  10  \n",
       "Wi-Fi/Cellular                    9   \n",
       "WiFi + Cellular                   7   \n",
       "Select from drop-down menu        5   \n",
       "Wi-Fi + 4G Cellular               5   \n",
       "Does not apply                    4   \n",
       "N/A                               4   \n",
       "Wifi + Cellular                   3   \n",
       "802.11ac Wi-Fi | Bluetooth 4.4    3   \n",
       "Wi-Fi or Cellular                 3   \n",
       "unlocked                          3   \n",
       "Cellular                          2   \n",
       "WIFI                              2   \n",
       "Without Contract                  2   \n",
       "Does Not Apply                    2   \n",
       "WiFi only                         2   \n",
       "Custom Value                      2   \n",
       "WiFi+Cellular                     1   \n",
       "wifi                              1   \n",
       "Wi-fi + 4G + 5G                   1   \n",
       "Wi-Fi+Cellular                    1   \n",
       "na                                1   \n",
       "Wi-Fi (802.11a                    1   \n",
       "802.11ax Wi-Fi 6                  1   \n",
       "Choose Connectivity               1   \n",
       "Wi-Fi + 2G                        1   \n",
       "Wi-Fi Only                        1   \n",
       "WI-FI CELLULAR                    1   \n",
       "Wifi And Cell                     1   \n",
       "Name: internet_connectivity, dtype: int64"
      ]
     },
     "execution_count": 55,
     "metadata": {},
     "output_type": "execute_result"
    }
   ],
   "source": [
    "df2['internet_connectivity'].value_counts()"
   ]
  },
  {
   "cell_type": "code",
   "execution_count": 56,
   "metadata": {},
   "outputs": [],
   "source": [
    "df2[\"internet_connectivity\"].replace(dict.fromkeys(['N\\A','Not Available','Not Applicable',\n",
    "                                                    'Does Not Apply','Does not apply'\n",
    "                                                    ,'N/A','na'], None), inplace=True)\n",
    "\n",
    "df2[\"internet_connectivity\"].replace(dict.fromkeys(['Wi-Fi/Cellular','WiFi + Cellular',\n",
    "                                                    'Wifi + Cellular','WI-FI CELLULAR',\n",
    "                                                   'Wi-Fi+Cellular','Wifi And Cell','WiFi+Cellular'\n",
    "                                                    'Wi-Fi or Cellular','Cellular',\n",
    "                                                    'WiFi+Cellular','Wi-Fi + 2G'],\n",
    "                                                   'Wi-Fi + Cellular'), inplace=True)\n",
    "\n",
    "df2[\"internet_connectivity\"].replace(dict.fromkeys(['WiFi','Select from drop-down menu',\n",
    "                                                    '802.11ac Wi-Fi | Bluetooth 4.4','WI-FI CELLULAR',\n",
    "                                                   'unlocked','Without Contract','Custom Value',\n",
    "                                                    'WiFi only','WIFI','Wi-Fi (802.11a',\n",
    "                                                    'wifi','802.11ax Wi-Fi 6','Choose Connectivity',\n",
    "                                                    'Wi-Fi Only',\n",
    "                                                   ], 'Wi-Fi'), inplace=True)\n",
    "\n",
    "df2[\"internet_connectivity\"].replace(dict.fromkeys(['Wi-Fi + 4G Cellular',\n",
    "                                                   'Wi-fi + 4G + 5G'], 'Wi-Fi + 4G'), inplace=True)\n",
    "\n",
    "df2[\"internet_connectivity\"].replace(dict.fromkeys(['Wi-Fi + 4G Cellular',\n",
    "                                                   'Wi-fi + 4G + 5G'], 'Wi-Fi + 4G'), inplace=True)"
   ]
  },
  {
   "cell_type": "code",
   "execution_count": 57,
   "metadata": {},
   "outputs": [
    {
     "data": {
      "text/plain": [
       "Wi-Fi                2096\n",
       "Wi-Fi + 4G           587 \n",
       "Wi-Fi + 5G           71  \n",
       "Wi-Fi + Cellular     36  \n",
       "Wi-Fi + 3G           33  \n",
       "Wi-Fi or Cellular    3   \n",
       "Name: internet_connectivity, dtype: int64"
      ]
     },
     "execution_count": 57,
     "metadata": {},
     "output_type": "execute_result"
    }
   ],
   "source": [
    "(df2['internet_connectivity'].value_counts())\n"
   ]
  },
  {
   "cell_type": "code",
   "execution_count": 58,
   "metadata": {},
   "outputs": [],
   "source": [
    "df2 = df2.drop(columns = [' Type'])"
   ]
  },
  {
   "cell_type": "code",
   "execution_count": 59,
   "metadata": {},
   "outputs": [],
   "source": [
    "df2 = df2.drop(columns = [' MPN'])"
   ]
  },
  {
   "cell_type": "code",
   "execution_count": 60,
   "metadata": {},
   "outputs": [
    {
     "data": {
      "text/plain": [
       "Index(['Name', 'condition', 'price_usd', ' Storage Capacity', ' RAM Size',\n",
       "       ' Brand', ' Screen Size', ' Series', ' Network', ' UPC', ' Processor',\n",
       "       ' Color', ' Maximum Resolution', ' Connectivity', ' Operating System',\n",
       "       ' Features', 'model_generation', 'model_type', 'internet_connectivity'],\n",
       "      dtype='object')"
      ]
     },
     "execution_count": 60,
     "metadata": {},
     "output_type": "execute_result"
    }
   ],
   "source": [
    "df2.columns"
   ]
  },
  {
   "cell_type": "code",
   "execution_count": 61,
   "metadata": {},
   "outputs": [],
   "source": [
    "def extract_capacity(x):\n",
    "    try:\n",
    "        return(x.split(\"GB\")[0].strip())\n",
    "    except:\n",
    "        return(None)"
   ]
  },
  {
   "cell_type": "code",
   "execution_count": 62,
   "metadata": {},
   "outputs": [],
   "source": [
    "df2[' Storage Capacity'] = df2[' Storage Capacity'].apply(lambda x: extract_capacity(x))"
   ]
  },
  {
   "cell_type": "code",
   "execution_count": 63,
   "metadata": {},
   "outputs": [
    {
     "data": {
      "text/plain": [
       "'16 gb'"
      ]
     },
     "execution_count": 63,
     "metadata": {},
     "output_type": "execute_result"
    }
   ],
   "source": [
    "text = \"16 gb\"\n",
    "\n",
    "text.split(\"GB\")[0].strip()\n",
    "#extract_capacity(text)"
   ]
  },
  {
   "cell_type": "code",
   "execution_count": 64,
   "metadata": {},
   "outputs": [
    {
     "data": {
      "text/plain": [
       "32                                   621\n",
       "16                                   612\n",
       "64                                   560\n",
       "128                                  409\n",
       "256                                  365\n",
       "512                                  67 \n",
       "1 TB                                 19 \n",
       "2 TB                                 15 \n",
       "N\\A                                  12 \n",
       "256 MB                               11 \n",
       "128 MB                               10 \n",
       "Select from drop-down menu           9  \n",
       "Unknown                              6  \n",
       "16gb                                 4  \n",
       "Not Available                        3  \n",
       "1024                                 3  \n",
       "4                                    3  \n",
       "Multiple                             3  \n",
       "Various                              3  \n",
       "Choose Storage                       3  \n",
       "Does Not Apply                       2  \n",
       "Does not apply                       2  \n",
       "12                                   2  \n",
       "512 MB                               2  \n",
       "N/A                                  1  \n",
       "MD529LL/A                            1  \n",
       "16Gb (8), 32                         1  \n",
       "32/128G                              1  \n",
       "28                                   1  \n",
       "16gb, 32gb                           1  \n",
       "16 & 32                              1  \n",
       "128 Gb                               1  \n",
       "1.6                                  1  \n",
       "?                                    1  \n",
       "DMPM1553F4YF                         1  \n",
       "For Apple iPad 8th 7th 10.2\" Case    1  \n",
       "No Info                              1  \n",
       "2                                    1  \n",
       "Mixed Lot                            1  \n",
       "32G                                  1  \n",
       "12 MB                                1  \n",
       "60                                   1  \n",
       "64gb or 128                          1  \n",
       "unknown                              1  \n",
       "Name:  Storage Capacity, dtype: int64"
      ]
     },
     "execution_count": 64,
     "metadata": {},
     "output_type": "execute_result"
    }
   ],
   "source": [
    "df2[' Storage Capacity'].value_counts()"
   ]
  },
  {
   "cell_type": "code",
   "execution_count": 65,
   "metadata": {},
   "outputs": [
    {
     "data": {
      "text/plain": [
       "Index(['32', '16', '64', '128', '256', '512', '1 TB', '2 TB', 'N\\A', '256 MB',\n",
       "       '128 MB', 'Select from drop-down menu', 'Unknown', '16gb',\n",
       "       'Not Available', '1024', '4', 'Multiple', 'Various', 'Choose Storage',\n",
       "       'Does Not Apply', 'Does not apply', '12', '512 MB', 'N/A', 'MD529LL/A',\n",
       "       '16Gb (8), 32', '32/128G', '28', '16gb, 32gb', '16 & 32', '128 Gb',\n",
       "       '1.6', '?', 'DMPM1553F4YF', 'For Apple iPad 8th 7th 10.2\" Case',\n",
       "       'No Info', '2', 'Mixed Lot', '32G', '12 MB', '60', '64gb or 128',\n",
       "       'unknown'],\n",
       "      dtype='object')"
      ]
     },
     "execution_count": 65,
     "metadata": {},
     "output_type": "execute_result"
    }
   ],
   "source": [
    "df2[' Storage Capacity'].value_counts().index"
   ]
  },
  {
   "cell_type": "code",
   "execution_count": 66,
   "metadata": {},
   "outputs": [],
   "source": [
    "df2[' Storage Capacity'].replace({\"32\": \"32 GB\",\"32G\": \"32 GB\",'16':\"16 GB\", '64':'64 GB',\n",
    "                                  '128':'128 GB', '256':'256 GB', '64gb or 128':'64 GB',\n",
    "                                  '512':'512 GB', '16gb': \"16 GB\", '128 Gb':'128 GB'}, inplace = True)\n",
    "df2[' Storage Capacity'].replace(dict.fromkeys(['Select from drop-down menu','Choose Storage',\n",
    "                                                   'Multiple', 'Various','Mixed Lot'\n",
    "                                                ,'1.6','12','16Gb (8)','60' ], '16 GB'), inplace=True)\n",
    "df2[' Storage Capacity'].replace(dict.fromkeys(['Unknown','Does Not Apply','Does not apply',\n",
    "                                                   'No Info', 'For Apple iPad 8th 7th 10.2\" Case',\n",
    "                                                'unknown', 'N/A','N\\A','Not Available',\n",
    "                                                'MD529LL/A', 'DMPM1553F4YF',\n",
    "                                                '2'], None), inplace=True)\n",
    "df2[' Storage Capacity'].replace({\"1024\": \"1 TB\",\"32/128G\": \"32 GB\",'16 & 32':\"16 GB\", '28':'16 GB',\n",
    "                                  '4':None}, inplace = True)\n",
    "                                                \n",
    "df2[' Storage Capacity'].replace({'12 MB': \"16 GB\", \"256 MB\":\"256 GB\", \"128 MB\":\"128 GB\", \"512 MB\":\"512 GB\",\n",
    "                                  '?':None}, inplace = True)"
   ]
  },
  {
   "cell_type": "code",
   "execution_count": 67,
   "metadata": {},
   "outputs": [
    {
     "data": {
      "text/plain": [
       "16 GB           642\n",
       "32 GB           623\n",
       "64 GB           561\n",
       "128 GB          420\n",
       "256 GB          376\n",
       "512 GB          69 \n",
       "1 TB            22 \n",
       "2 TB            15 \n",
       "16Gb (8), 32    1  \n",
       "16gb, 32gb      1  \n",
       "Name:  Storage Capacity, dtype: int64"
      ]
     },
     "execution_count": 67,
     "metadata": {},
     "output_type": "execute_result"
    }
   ],
   "source": [
    "df2[' Storage Capacity'].value_counts()"
   ]
  },
  {
   "cell_type": "code",
   "execution_count": 68,
   "metadata": {},
   "outputs": [],
   "source": [
    "df2['storage_capacity'] = df2[' Storage Capacity']\n",
    "df2 = df2.drop(columns = [' Storage Capacity'])"
   ]
  },
  {
   "cell_type": "code",
   "execution_count": 69,
   "metadata": {},
   "outputs": [
    {
     "data": {
      "text/plain": [
       "Name                     2893\n",
       "condition                2893\n",
       "price_usd                2893\n",
       " RAM Size                1415\n",
       " Brand                   2893\n",
       " Screen Size             2886\n",
       " Series                  1616\n",
       " Network                 1964\n",
       " UPC                     1856\n",
       " Processor               2076\n",
       " Color                   2443\n",
       " Maximum Resolution      2209\n",
       " Connectivity            2331\n",
       " Operating System        2754\n",
       " Features                1945\n",
       "model_generation         2207\n",
       "model_type               1964\n",
       "internet_connectivity    2826\n",
       "storage_capacity         2730\n",
       "dtype: int64"
      ]
     },
     "execution_count": 69,
     "metadata": {},
     "output_type": "execute_result"
    }
   ],
   "source": [
    "df2.count()"
   ]
  },
  {
   "cell_type": "code",
   "execution_count": 70,
   "metadata": {},
   "outputs": [
    {
     "data": {
      "text/plain": [
       "Index(['Name', 'condition', 'price_usd', ' RAM Size', ' Brand', ' Screen Size',\n",
       "       ' Series', ' Network', ' UPC', ' Processor', ' Color',\n",
       "       ' Maximum Resolution', ' Connectivity', ' Operating System',\n",
       "       ' Features', 'model_generation', 'model_type', 'internet_connectivity',\n",
       "       'storage_capacity'],\n",
       "      dtype='object')"
      ]
     },
     "execution_count": 70,
     "metadata": {},
     "output_type": "execute_result"
    }
   ],
   "source": [
    "df2.columns"
   ]
  },
  {
   "cell_type": "code",
   "execution_count": 71,
   "metadata": {},
   "outputs": [],
   "source": [
    "df3 = df2[['Name', 'condition', 'price_usd',' Screen Size',\n",
    "       ' Color', ' Maximum Resolution','model_generation', 'model_type', 'internet_connectivity',\n",
    "       'storage_capacity']]"
   ]
  },
  {
   "cell_type": "code",
   "execution_count": 72,
   "metadata": {},
   "outputs": [
    {
     "name": "stderr",
     "output_type": "stream",
     "text": [
      "<ipython-input-72-8a4cedded0cc>:1: SettingWithCopyWarning: \n",
      "A value is trying to be set on a copy of a slice from a DataFrame.\n",
      "Try using .loc[row_indexer,col_indexer] = value instead\n",
      "\n",
      "See the caveats in the documentation: https://pandas.pydata.org/pandas-docs/stable/user_guide/indexing.html#returning-a-view-versus-a-copy\n",
      "  df3['screen_size'] = df3[' Screen Size'].apply(lambda x: str(x).split(\",\")[0].replace(\" \", \"\").lower())\n"
     ]
    }
   ],
   "source": [
    "df3['screen_size'] = df3[' Screen Size'].apply(lambda x: str(x).split(\",\")[0].replace(\" \", \"\").lower())"
   ]
  },
  {
   "cell_type": "code",
   "execution_count": 73,
   "metadata": {},
   "outputs": [],
   "source": [
    "def extract_screensize(x):\n",
    "    p = \"[0-9]{1,2}.{0,1}[1-9]\"\n",
    "    try:\n",
    "        m = re.search(p,x)\n",
    "        return(m.group())\n",
    "    except:\n",
    "        return(None)"
   ]
  },
  {
   "cell_type": "code",
   "execution_count": 74,
   "metadata": {},
   "outputs": [
    {
     "name": "stderr",
     "output_type": "stream",
     "text": [
      "<ipython-input-74-662720fd3d2d>:1: SettingWithCopyWarning: \n",
      "A value is trying to be set on a copy of a slice from a DataFrame.\n",
      "Try using .loc[row_indexer,col_indexer] = value instead\n",
      "\n",
      "See the caveats in the documentation: https://pandas.pydata.org/pandas-docs/stable/user_guide/indexing.html#returning-a-view-versus-a-copy\n",
      "  df3['screen_size'] = df3[' Screen Size'].apply(lambda x: extract_screensize(x))\n"
     ]
    }
   ],
   "source": [
    "df3['screen_size'] = df3[' Screen Size'].apply(lambda x: extract_screensize(x))"
   ]
  },
  {
   "cell_type": "code",
   "execution_count": 75,
   "metadata": {},
   "outputs": [
    {
     "name": "stderr",
     "output_type": "stream",
     "text": [
      "/Users/akhilanunna/opt/anaconda3/lib/python3.8/site-packages/pandas/core/series.py:4563: SettingWithCopyWarning: \n",
      "A value is trying to be set on a copy of a slice from a DataFrame\n",
      "\n",
      "See the caveats in the documentation: https://pandas.pydata.org/pandas-docs/stable/user_guide/indexing.html#returning-a-view-versus-a-copy\n",
      "  return super().replace(\n"
     ]
    }
   ],
   "source": [
    "df3['screen_size'].replace(dict.fromkeys(['11', '10.5', '10.9'], '10.2'), inplace=True)\n",
    "df3['screen_size'].replace(dict.fromkeys(['9.5', \n",
    "       '9.4', '9.6'], '9.7'), inplace=True)\n",
    "df3['screen_size'].replace(dict.fromkeys(['8.3','7.7',\n",
    "       '5.5', '6.5', '4 3', '7.8'], '7.9'), inplace=True)"
   ]
  },
  {
   "cell_type": "code",
   "execution_count": 76,
   "metadata": {},
   "outputs": [
    {
     "data": {
      "text/plain": [
       "Index(['9.7', '10.2', '7.9', '12.9'], dtype='object')"
      ]
     },
     "execution_count": 76,
     "metadata": {},
     "output_type": "execute_result"
    }
   ],
   "source": [
    "df3['screen_size'].value_counts().index"
   ]
  },
  {
   "cell_type": "code",
   "execution_count": 77,
   "metadata": {},
   "outputs": [],
   "source": [
    "df3 = df3.drop(columns = [' Screen Size'])"
   ]
  },
  {
   "cell_type": "code",
   "execution_count": 78,
   "metadata": {},
   "outputs": [],
   "source": [
    "df3['color'] = df3[' Color'].apply(lambda x: str(x).split(\",\")[0].replace(\" \", \"\").lower())"
   ]
  },
  {
   "cell_type": "code",
   "execution_count": 79,
   "metadata": {},
   "outputs": [],
   "source": [
    "df3['color'] = df3[' Color'].apply(lambda x: str(x).split(\",\")[0].replace(\" \", \"\").lower())"
   ]
  },
  {
   "cell_type": "code",
   "execution_count": 80,
   "metadata": {},
   "outputs": [
    {
     "data": {
      "text/plain": [
       "Index(['Name', 'condition', 'price_usd', ' Color', ' Maximum Resolution',\n",
       "       'model_generation', 'model_type', 'internet_connectivity',\n",
       "       'storage_capacity', 'screen_size', 'color'],\n",
       "      dtype='object')"
      ]
     },
     "execution_count": 80,
     "metadata": {},
     "output_type": "execute_result"
    }
   ],
   "source": [
    "df3.columns"
   ]
  },
  {
   "cell_type": "code",
   "execution_count": 81,
   "metadata": {},
   "outputs": [],
   "source": [
    "df4 = df3[['condition', 'price_usd',\n",
    "       'model_generation','model_type','internet_connectivity',\n",
    "       'storage_capacity', 'screen_size', 'color']].dropna()"
   ]
  },
  {
   "cell_type": "code",
   "execution_count": 82,
   "metadata": {},
   "outputs": [
    {
     "data": {
      "text/plain": [
       "condition                1322\n",
       "price_usd                1322\n",
       "model_generation         1322\n",
       "model_type               1322\n",
       "internet_connectivity    1322\n",
       "storage_capacity         1322\n",
       "screen_size              1322\n",
       "color                    1322\n",
       "dtype: int64"
      ]
     },
     "execution_count": 82,
     "metadata": {},
     "output_type": "execute_result"
    }
   ],
   "source": [
    "df4.count()"
   ]
  },
  {
   "cell_type": "code",
   "execution_count": 83,
   "metadata": {},
   "outputs": [
    {
     "name": "stdout",
     "output_type": "stream",
     "text": [
      "{'condition': {'New': 0, 'Not working': 1, 'Open box': 2, 'Refurbished': 3, 'Used': 4}, 'model_type': {'air': 0, 'mini': 1, 'pro': 2}, 'internet_connectivity': {'Wi-Fi': 0, 'Wi-Fi + 3G': 1, 'Wi-Fi + 4G': 2, 'Wi-Fi + 5G': 3, 'Wi-Fi + Cellular': 4}, 'storage_capacity': {'1 TB': 0, '128 GB': 1, '16 GB': 2, '16Gb (8), 32': 3, '2 TB': 4, '256 GB': 5, '32 GB': 6, '512 GB': 7, '64 GB': 8}, 'screen_size': {'10.2': 0, '12.9': 1, '7.9': 2, '9.7': 3}, 'color': {'black': 0, 'blue': 1, 'gold': 2, 'gray': 3, 'green': 4, 'gunmetalgray': 5, 'multicolor': 6, 'nan': 7, 'pink': 8, 'purple': 9, 'rosegold': 10, 'silver': 11, 'skyblue': 12, 'spacegray': 13, 'spacegrey': 14, 'white': 15, 'white/silver': 16}}\n"
     ]
    }
   ],
   "source": [
    "labels = {}\n",
    "from sklearn.preprocessing import LabelEncoder\n",
    "for col in df4.columns:\n",
    "    if df4[col].dtype == \"object\":\n",
    "        le = LabelEncoder()\n",
    "        le.fit(list(df4[col].astype(str).values))\n",
    "        le_name_mapping = dict(zip(le.classes_, le.transform(le.classes_)))\n",
    "        labels[col] = le_name_mapping \n",
    "        df4[col] = le.transform(list(df4[col].astype(str).values))\n",
    "print(labels)        "
   ]
  },
  {
   "cell_type": "code",
   "execution_count": 84,
   "metadata": {},
   "outputs": [
    {
     "data": {
      "text/plain": [
       "<AxesSubplot:>"
      ]
     },
     "execution_count": 84,
     "metadata": {},
     "output_type": "execute_result"
    },
    {
     "data": {
      "image/png": "[encoded data removed]",
      "text/plain": [
       "<Figure size 720x360 with 2 Axes>"
      ]
     },
     "metadata": {
      "needs_background": "light"
     },
     "output_type": "display_data"
    }
   ],
   "source": [
    "import seaborn as sns\n",
    "fig, ax = plt.subplots(figsize=(10,5))\n",
    "corr = df4.corr()\n",
    "sns.heatmap(corr,annot=True,cmap=\"PiYG\")"
   ]
  },
  {
   "cell_type": "code",
   "execution_count": 85,
   "metadata": {},
   "outputs": [],
   "source": [
    "target = 'price_usd'\n",
    "col = ['condition',\n",
    "       'model_generation','model_type','internet_connectivity',\n",
    "       'storage_capacity', 'screen_size', 'color']"
   ]
  },
  {
   "cell_type": "code",
   "execution_count": 86,
   "metadata": {},
   "outputs": [
    {
     "name": "stdout",
     "output_type": "stream",
     "text": [
      "(1322, 7)\n",
      "(1322,)\n"
     ]
    }
   ],
   "source": [
    "# Define a random state \n",
    "\n",
    "state = np.random.RandomState(42)\n",
    "X = df4[col]\n",
    "Y = df4[target]\n",
    "\n",
    "X_outliers = state.uniform(low=0, high=1, size=(X.shape[0], X.shape[1]))\n",
    "# Print the shapes of X & Y\n",
    "print(X.shape)\n",
    "print(Y.shape)"
   ]
  },
  {
   "cell_type": "code",
   "execution_count": 87,
   "metadata": {},
   "outputs": [],
   "source": [
    "import sklearn\n",
    "from sklearn.model_selection import train_test_split\n",
    "X_train,X_test,y_train,y_test=train_test_split(X,Y,test_size=0.2,random_state=10)"
   ]
  },
  {
   "cell_type": "code",
   "execution_count": 88,
   "metadata": {},
   "outputs": [
    {
     "data": {
      "text/plain": [
       "LinearRegression()"
      ]
     },
     "execution_count": 88,
     "metadata": {},
     "output_type": "execute_result"
    }
   ],
   "source": [
    "from sklearn.linear_model import LinearRegression\n",
    "from sklearn.model_selection import train_test_split\n",
    "from sklearn.metrics import mean_squared_error\n",
    "\n",
    "regr = LinearRegression()\n",
    "# fit the model with data\n",
    "regr.fit(X_train,y_train)"
   ]
  },
  {
   "cell_type": "code",
   "execution_count": 89,
   "metadata": {},
   "outputs": [
    {
     "name": "stdout",
     "output_type": "stream",
     "text": [
      "Training data r-squared: 0.5568669568143269\n",
      "Test data r-squared: 0.5287228864011086\n",
      "Intercept 209.58635655891644\n",
      "Mean Squared Error: 46496.26351494778\n"
     ]
    }
   ],
   "source": [
    "y_predict = regr.predict(X_test)\n",
    "print('Training data r-squared:', regr.score(X_train, y_train))\n",
    "print('Test data r-squared:', regr.score(X_test, y_test))\n",
    "\n",
    "print('Intercept', regr.intercept_)\n",
    "pd.DataFrame(data=regr.coef_, index=X_train.columns, columns=['coef'])\n",
    "print(\"Mean Squared Error:\", mean_squared_error(y_test,y_predict))"
   ]
  },
  {
   "cell_type": "code",
   "execution_count": 90,
   "metadata": {},
   "outputs": [
    {
     "data": {
      "text/plain": [
       "coef       6\n",
       "p-value    6\n",
       "dtype: int64"
      ]
     },
     "execution_count": 90,
     "metadata": {},
     "output_type": "execute_result"
    }
   ],
   "source": [
    "import statsmodels.api as sm\n",
    "x_incl_const = sm.add_constant(X_train)\n",
    "\n",
    "model = sm.OLS(y_train, x_incl_const)\n",
    "results = model.fit()\n",
    "\n",
    "df = pd.DataFrame({'coef': results.params, 'p-value': round(results.pvalues, 3)})\n",
    "\n",
    "df[df['p-value'] < 0.05].count()"
   ]
  },
  {
   "cell_type": "code",
   "execution_count": 91,
   "metadata": {},
   "outputs": [
    {
     "data": {
      "image/png": "[encoded data removed]",
      "text/plain": [
       "<Figure size 1080x360 with 2 Axes>"
      ]
     },
     "metadata": {
      "needs_background": "light"
     },
     "output_type": "display_data"
    }
   ],
   "source": [
    "#Graph of Actual vs. Predicted Prices\n",
    "plt.figure(figsize=[15, 5])\n",
    "plt.subplot(1,2,1)\n",
    "\n",
    "corr = round(y_train.corr(results.fittedvalues), 2)\n",
    "plt.scatter(x=y_train, y=results.fittedvalues, c='navy', alpha=0.6)\n",
    "plt.plot(y_train, y_train, color='cyan')\n",
    "\n",
    "plt.xlabel('Actual prices $y _i$', fontsize=14)\n",
    "plt.ylabel('Prediced prices $\\hat y _i$', fontsize=14)\n",
    "plt.title(f'Actual vs Predicted prices: $y _i$ vs $\\hat y_i$ (Corr {corr})', fontsize=17)\n",
    "\n",
    "# Residuals vs Predicted values\n",
    "plt.subplot(1,2,2)\n",
    "plt.scatter(x=results.fittedvalues, y=results.resid, c='#e74c3c', alpha=0.6)\n",
    "\n",
    "plt.xlabel('Predicted prices $\\hat y _i$', fontsize=14)\n",
    "plt.ylabel('Residuals', fontsize=14)\n",
    "plt.title('Residuals vs Fitted Values', fontsize=17)\n",
    "plt.show()"
   ]
  },
  {
   "cell_type": "code",
   "execution_count": 92,
   "metadata": {},
   "outputs": [
    {
     "name": "stdout",
     "output_type": "stream",
     "text": [
      "Training data r-squared: 0.7311849915080425\n",
      "Test data r-squared: 0.6991268076214127\n",
      "Mean Squared Error: 29684.189691683096\n"
     ]
    }
   ],
   "source": [
    "from sklearn.tree import DecisionTreeRegressor\n",
    "# Fit regression model\n",
    "regr_1 = DecisionTreeRegressor(max_depth=4)\n",
    "\n",
    "regr_1.fit(X_train, y_train)\n",
    "y_predict = regr_1.predict(X_test)\n",
    "\n",
    "print('Training data r-squared:', regr_1.score(X_train, y_train))\n",
    "print('Test data r-squared:', regr_1.score(X_test, y_test))\n",
    "print(\"Mean Squared Error:\", mean_squared_error(y_test,y_predict))"
   ]
  },
  {
   "cell_type": "code",
   "execution_count": 93,
   "metadata": {},
   "outputs": [
    {
     "name": "stdout",
     "output_type": "stream",
     "text": [
      "Training data r-squared: 0.9395029697179835\n",
      "Test data r-squared: 0.7332449674938883\n",
      "Mean Squared Error: 26318.08744249575\n"
     ]
    }
   ],
   "source": [
    "from sklearn.tree import DecisionTreeRegressor\n",
    "# Fit regression model\n",
    "regr_1 = DecisionTreeRegressor()\n",
    "\n",
    "regr_1.fit(X_train, y_train)\n",
    "y_predict = regr_1.predict(X_test)\n",
    "\n",
    "print('Training data r-squared:', regr_1.score(X_train, y_train))\n",
    "print('Test data r-squared:', regr_1.score(X_test, y_test))\n",
    "print(\"Mean Squared Error:\", mean_squared_error(y_test,y_predict))"
   ]
  },
  {
   "cell_type": "code",
   "execution_count": 94,
   "metadata": {},
   "outputs": [
    {
     "name": "stdout",
     "output_type": "stream",
     "text": [
      "Training data r-squared: 0.925128899883451\n",
      "Test data r-squared: 0.7735867252374158\n",
      "Mean Squared Error: 22337.964188949227\n"
     ]
    }
   ],
   "source": [
    "from sklearn.ensemble import RandomForestRegressor\n",
    "regr_rf = RandomForestRegressor()\n",
    "\n",
    "regr_rf.fit(X_train, y_train)\n",
    "y_predict = regr_rf.predict(X_test)\n",
    "\n",
    "print('Training data r-squared:', regr_rf.score(X_train, y_train))\n",
    "print('Test data r-squared:', regr_rf.score(X_test, y_test))\n",
    "print(\"Mean Squared Error:\", mean_squared_error(y_test,y_predict))"
   ]
  },
  {
   "cell_type": "code",
   "execution_count": 95,
   "metadata": {},
   "outputs": [
    {
     "name": "stdout",
     "output_type": "stream",
     "text": [
      "Training data r-squared: 0.9258483669197793\n",
      "Test data r-squared: 0.7693085153934638\n",
      "Mean Squared Error: 22760.052948485165\n"
     ]
    }
   ],
   "source": [
    "from sklearn.ensemble import GradientBoostingRegressor\n",
    "regr_gb = RandomForestRegressor()\n",
    "\n",
    "regr_gb.fit(X_train, y_train)\n",
    "y_predict = regr_gb.predict(X_test)\n",
    "\n",
    "print('Training data r-squared:', regr_gb.score(X_train, y_train))\n",
    "print('Test data r-squared:', regr_gb.score(X_test, y_test))\n",
    "print(\"Mean Squared Error:\", mean_squared_error(y_test,y_predict))"
   ]
  },
  {
   "cell_type": "code",
   "execution_count": 96,
   "metadata": {},
   "outputs": [
    {
     "name": "stdout",
     "output_type": "stream",
     "text": [
      "{'condition': {'New': 0, 'Not working': 1, 'Open box': 2, 'Refurbished': 3, 'Used': 4}, 'model_type': {'air': 0, 'mini': 1, 'pro': 2}, 'internet_connectivity': {'Wi-Fi': 0, 'Wi-Fi + 3G': 1, 'Wi-Fi + 4G': 2, 'Wi-Fi + 5G': 3, 'Wi-Fi + Cellular': 4}, 'storage_capacity': {'1 TB': 0, '128 GB': 1, '16 GB': 2, '16Gb (8), 32': 3, '2 TB': 4, '256 GB': 5, '32 GB': 6, '512 GB': 7, '64 GB': 8}, 'screen_size': {'10.2': 0, '12.9': 1, '7.9': 2, '9.7': 3}, 'color': {'black': 0, 'blue': 1, 'gold': 2, 'gray': 3, 'green': 4, 'gunmetalgray': 5, 'multicolor': 6, 'nan': 7, 'pink': 8, 'purple': 9, 'rosegold': 10, 'silver': 11, 'skyblue': 12, 'spacegray': 13, 'spacegrey': 14, 'white': 15, 'white/silver': 16}}\n"
     ]
    }
   ],
   "source": [
    "print(labels)"
   ]
  },
  {
   "cell_type": "code",
   "execution_count": 97,
   "metadata": {},
   "outputs": [
    {
     "data": {
      "text/plain": [
       "['ipadprice.joblib']"
      ]
     },
     "execution_count": 97,
     "metadata": {},
     "output_type": "execute_result"
    }
   ],
   "source": [
    "from joblib import dump, load\n",
    "dump(regr_gb,\"ipadprice.joblib\")"
   ]
  },
  {
   "cell_type": "code",
   "execution_count": 98,
   "metadata": {},
   "outputs": [
    {
     "data": {
      "text/html": [
       "<div>\n",
       "<style scoped>\n",
       "    .dataframe tbody tr th:only-of-type {\n",
       "        vertical-align: middle;\n",
       "    }\n",
       "\n",
       "    .dataframe tbody tr th {\n",
       "        vertical-align: top;\n",
       "    }\n",
       "\n",
       "    .dataframe thead th {\n",
       "        text-align: right;\n",
       "    }\n",
       "</style>\n",
       "<table border=\"1\" class=\"dataframe\">\n",
       "  <thead>\n",
       "    <tr style=\"text-align: right;\">\n",
       "      <th></th>\n",
       "      <th>condition</th>\n",
       "      <th>model_generation</th>\n",
       "      <th>model_type</th>\n",
       "      <th>internet_connectivity</th>\n",
       "      <th>storage_capacity</th>\n",
       "      <th>screen_size</th>\n",
       "      <th>color</th>\n",
       "    </tr>\n",
       "  </thead>\n",
       "  <tbody>\n",
       "    <tr>\n",
       "      <th>2979</th>\n",
       "      <td>4</td>\n",
       "      <td>4.0</td>\n",
       "      <td>0</td>\n",
       "      <td>2</td>\n",
       "      <td>8</td>\n",
       "      <td>0</td>\n",
       "      <td>1</td>\n",
       "    </tr>\n",
       "    <tr>\n",
       "      <th>1727</th>\n",
       "      <td>4</td>\n",
       "      <td>5.0</td>\n",
       "      <td>2</td>\n",
       "      <td>0</td>\n",
       "      <td>1</td>\n",
       "      <td>1</td>\n",
       "      <td>3</td>\n",
       "    </tr>\n",
       "    <tr>\n",
       "      <th>2570</th>\n",
       "      <td>4</td>\n",
       "      <td>1.0</td>\n",
       "      <td>0</td>\n",
       "      <td>2</td>\n",
       "      <td>2</td>\n",
       "      <td>3</td>\n",
       "      <td>11</td>\n",
       "    </tr>\n",
       "    <tr>\n",
       "      <th>2805</th>\n",
       "      <td>4</td>\n",
       "      <td>1.0</td>\n",
       "      <td>2</td>\n",
       "      <td>0</td>\n",
       "      <td>5</td>\n",
       "      <td>0</td>\n",
       "      <td>3</td>\n",
       "    </tr>\n",
       "    <tr>\n",
       "      <th>525</th>\n",
       "      <td>4</td>\n",
       "      <td>1.0</td>\n",
       "      <td>2</td>\n",
       "      <td>2</td>\n",
       "      <td>8</td>\n",
       "      <td>0</td>\n",
       "      <td>11</td>\n",
       "    </tr>\n",
       "  </tbody>\n",
       "</table>\n",
       "</div>"
      ],
      "text/plain": [
       "      condition  model_generation  model_type  internet_connectivity  \\\n",
       "2979  4          4.0               0           2                       \n",
       "1727  4          5.0               2           0                       \n",
       "2570  4          1.0               0           2                       \n",
       "2805  4          1.0               2           0                       \n",
       "525   4          1.0               2           2                       \n",
       "\n",
       "      storage_capacity  screen_size  color  \n",
       "2979  8                 0            1      \n",
       "1727  1                 1            3      \n",
       "2570  2                 3            11     \n",
       "2805  5                 0            3      \n",
       "525   8                 0            11     "
      ]
     },
     "execution_count": 98,
     "metadata": {},
     "output_type": "execute_result"
    }
   ],
   "source": [
    "X_test.head()"
   ]
  },
  {
   "cell_type": "code",
   "execution_count": 99,
   "metadata": {},
   "outputs": [
    {
     "data": {
      "text/plain": [
       "array([454.18571712])"
      ]
     },
     "execution_count": 99,
     "metadata": {},
     "output_type": "execute_result"
    }
   ],
   "source": [
    "ipadpricepredictor = load('ipadprice.joblib')\n",
    "\n",
    "ipadpricepredictor.predict(np.array([[4,4,0,2,8,0,1]]))"
   ]
  },
  {
   "cell_type": "code",
   "execution_count": 101,
   "metadata": {},
   "outputs": [
    {
     "data": {
      "text/plain": [
       "count    265.000000\n",
       "mean     2.471698  \n",
       "std      1.609675  \n",
       "min      1.000000  \n",
       "25%      1.000000  \n",
       "50%      2.000000  \n",
       "75%      4.000000  \n",
       "max      7.000000  \n",
       "Name: model_generation, dtype: float64"
      ]
     },
     "execution_count": 101,
     "metadata": {},
     "output_type": "execute_result"
    }
   ],
   "source": [
    "X_test.model_generation.describe()"
   ]
  },
  {
   "cell_type": "code",
   "execution_count": null,
   "metadata": {},
   "outputs": [],
   "source": []
  }
 ],
 "metadata": {
  "interpreter": {
   "hash": "c7c4f72963fb92a8e9d7575343b83d837dd309a3d8dc46f97af33e5e3dd0e10d"
  },
  "kernelspec": {
   "display_name": "Python 3.8.5 64-bit ('base': conda)",
   "name": "python3"
  },
  "language_info": {
   "codemirror_mode": {
    "name": "ipython",
    "version": 3
   },
   "file_extension": ".py",
   "mimetype": "text/x-python",
   "name": "python",
   "nbconvert_exporter": "python",
   "pygments_lexer": "ipython3",
   "version": "3.8.5"
  }
 },
 "nbformat": 4,
 "nbformat_minor": 4
}
